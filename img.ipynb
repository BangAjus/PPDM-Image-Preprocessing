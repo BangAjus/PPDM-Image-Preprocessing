{
 "cells": [
  {
   "cell_type": "code",
   "execution_count": 9,
   "metadata": {},
   "outputs": [],
   "source": [
    "from skimage import data, io, feature, util, transform\n",
    "import numpy as np\n",
    "from matplotlib import pyplot as plt\n",
    "from skimage import color\n",
    "%matplotlib inline\n",
    "import pandas as pd\n",
    "from scipy.stats import kurtosis, skew, entropy\n",
    "from scipy.ndimage import variance\n",
    "import math\n",
    "import os"
   ]
  },
  {
   "attachments": {},
   "cell_type": "markdown",
   "metadata": {},
   "source": [
    "Untuk mengubah gambar menjadi array, hanya diperlukan modul 'skimage.io'.\n",
    "Array yang dihasilkan berupa array numpy dimensi 3"
   ]
  },
  {
   "cell_type": "code",
   "execution_count": 10,
   "metadata": {},
   "outputs": [
    {
     "data": {
      "text/plain": [
       "(800, 1200, 3)"
      ]
     },
     "execution_count": 10,
     "metadata": {},
     "output_type": "execute_result"
    }
   ],
   "source": [
    "f = io.imread('Pictures/F15/f15.jpg')\n",
    "\n",
    "# untuk resize picture\n",
    "# f = transform.resize(f, (200, 300), anti_aliasing=False)\n",
    "\n",
    "f.shape"
   ]
  },
  {
   "cell_type": "markdown",
   "metadata": {},
   "source": [
    "plt.hist(io.imread('Pictures/F15/f15.jpg', ),256,[0,256])\n",
    "plt.show()"
   ]
  },
  {
   "attachments": {},
   "cell_type": "markdown",
   "metadata": {},
   "source": [
    "Namun, jika dibuka dalam bentuk grayscale, maka array yang dihasilkan\n",
    "adalah numpy array 2 dimensi"
   ]
  },
  {
   "cell_type": "code",
   "execution_count": 11,
   "metadata": {},
   "outputs": [],
   "source": [
    "def make_matrix_resized(photo):\n",
    "    return transform.resize(photo, (photo.shape[0] // 4, photo.shape[1] // 4),\n",
    "                       anti_aliasing=True)"
   ]
  },
  {
   "cell_type": "code",
   "execution_count": 12,
   "metadata": {},
   "outputs": [
    {
     "data": {
      "text/plain": [
       "['happy-0401.jpg',\n",
       " 'happy-0402.jpg',\n",
       " 'happy-0403.jpg',\n",
       " 'happy-0404.jpg',\n",
       " 'happy-0405.jpg',\n",
       " 'happy-0406.jpg',\n",
       " 'happy-0407.jpg',\n",
       " 'happy-0408.jpg',\n",
       " 'happy-0409.jpg',\n",
       " 'happy-0410.jpg']"
      ]
     },
     "execution_count": 12,
     "metadata": {},
     "output_type": "execute_result"
    }
   ],
   "source": [
    "os.listdir(\"C:/Tugas/PPDM/Tugas 2/Pictures/Happy\")"
   ]
  },
  {
   "cell_type": "code",
   "execution_count": 13,
   "metadata": {},
   "outputs": [],
   "source": [
    "def show_photo_preview(number, emotion):\n",
    "\n",
    "    if emotion.lower() == 'happy':\n",
    "        happy = \"C:/Tugas/PPDM/Tugas 2/Pictures/Happy\"\n",
    "\n",
    "        for i in os.listdir(happy):\n",
    "            if number in i:\n",
    "                io.imshow(io.imread(happy + '/' + i, pilmode='L'))\n",
    "    \n",
    "    if emotion.lower() == 'neutral':\n",
    "        neutral = \"C:/Tugas/PPDM/Tugas 2/Pictures/Neutral\"\n",
    "\n",
    "        for i in os.listdir(neutral):\n",
    "            if number in i:\n",
    "                io.imshow(io.imread(neutral + '/' + i, pilmode='L'))\n",
    "\n",
    "    if emotion.lower() == 'sad':            \n",
    "        sad = \"C:/Tugas/PPDM/Tugas 2/Pictures/Sad\"\n",
    "\n",
    "        for i in os.listdir(sad):\n",
    "            if number in i:\n",
    "                io.imshow(io.imread(sad + '/' + i, pilmode='L'))\n"
   ]
  },
  {
   "cell_type": "code",
   "execution_count": 14,
   "metadata": {},
   "outputs": [],
   "source": [
    "def image_hist(picture_dir):\n",
    "\n",
    "    pic = io.imread(picture_dir, pilmode='L')\n",
    "    plt.hist(pic.flatten(), bins=256)"
   ]
  },
  {
   "cell_type": "code",
   "execution_count": 15,
   "metadata": {},
   "outputs": [],
   "source": [
    "def calc_glcm_for_each_photo(photo, emotion):\n",
    "    \n",
    "    features = ['dissimilarity', 'correlation', 'homogeneity', 'contrast', 'ASM', 'energy']\n",
    "    angle = [0, 45, 90, 135]\n",
    "\n",
    "    def count_ent_idm_and_var(glcm):\n",
    "\n",
    "        Ent = [0.0]*4\n",
    "        Idm = [0.0]*4\n",
    "        Var = [0.0]*4\n",
    "\n",
    "        for angle in range(4):\n",
    "            Var[angle] += variance(glcm[:,:,0,angle].flatten())\n",
    "            for i in range(256):\n",
    "                for j in range(256):\n",
    "                    Idm[angle] += glcm[i][j][0][angle] / (1 + ((i - j)**2))\n",
    "                    if glcm[i][j][0][angle] > 0.0:\n",
    "                        Ent[angle] += glcm[i][j][0][angle] * math.log(glcm[i][j][0][angle])\n",
    "        return [-i for i in Ent], Idm, Var\n",
    "    \n",
    "    props = {'Angle': angle,\n",
    "             'Emotion': [emotion]*4}\n",
    "    \n",
    "    glcm = feature.graycomatrix(photo, distances=[2], angles=angle, levels=256,\n",
    "                        symmetric=True, normed=True)\n",
    "    \n",
    "    for i in  features:\n",
    "        props[i.capitalize()] = feature.graycoprops(glcm, prop=i).flatten()\n",
    "\n",
    "    ent, idm, var = count_ent_idm_and_var(glcm)\n",
    "    props['Entropy'] = ent\n",
    "    props['IDM'] = idm\n",
    "    props['Variance'] = var\n",
    "\n",
    "    props = pd.DataFrame(props)\n",
    "    return props"
   ]
  },
  {
   "cell_type": "code",
   "execution_count": 16,
   "metadata": {},
   "outputs": [],
   "source": [
    "def concat_calculation(photos, emotions):\n",
    "    empty = {'Picture': [],\n",
    "             'Angle':[],\n",
    "             'Emotion':[]}\n",
    "    features = ['dissimilarity', 'correlation', 'homogeneity', 'contrast', 'ASM', 'energy', 'entropy']\n",
    "\n",
    "    for i in features:\n",
    "        empty[i.capitalize()] = np.array([])\n",
    "    empty = pd.DataFrame(empty)\n",
    "    \n",
    "    for x, y in zip(photos, emotions):\n",
    "        data = calc_glcm_for_each_photo(x, y)\n",
    "        empty = pd.concat([empty, data], ignore_index=True)\n",
    "        \n",
    "    a = 1\n",
    "    j = 401\n",
    "    for i in empty.index:\n",
    "        empty.loc[i, 'Picture'] = emotions[0] + '-' + str(j)\n",
    "        a += 1\n",
    "        if a > 4 and a % 4 == 1:\n",
    "            j += 1\n",
    "\n",
    "    return empty"
   ]
  },
  {
   "cell_type": "code",
   "execution_count": 17,
   "metadata": {},
   "outputs": [],
   "source": [
    "def first_order_stat(photos, emotion):\n",
    "\n",
    "    empty = {'Picture':[emotion[0]  + '-' + str(i+401) for i in range(len(photos))],\n",
    "             'Emotion':[i for i in emotion]}\n",
    "\n",
    "    empty['Mean'] = [np.mean(photos[i].flatten()) for i in range(len(photos))]\n",
    "    empty['Skewness'] = [skew(photos[i].flatten()) for i in range(len(photos))]\n",
    "    empty['Kurtosis'] = [kurtosis(photos[i].flatten(), fisher=True) for i in range(len(photos))]\n",
    "    empty['Variation'] = [variance(photos[i]) for i in range(len(photos))]\n",
    "    empty['Entropy'] = [entropy(photos[i].flatten(), base=2) for i in range(len(photos))]\n",
    "\n",
    "    return pd.DataFrame(empty)\n"
   ]
  },
  {
   "cell_type": "code",
   "execution_count": 18,
   "metadata": {},
   "outputs": [
    {
     "data": {
      "text/html": [
       "<div>\n",
       "<style scoped>\n",
       "    .dataframe tbody tr th:only-of-type {\n",
       "        vertical-align: middle;\n",
       "    }\n",
       "\n",
       "    .dataframe tbody tr th {\n",
       "        vertical-align: top;\n",
       "    }\n",
       "\n",
       "    .dataframe thead th {\n",
       "        text-align: right;\n",
       "    }\n",
       "</style>\n",
       "<table border=\"1\" class=\"dataframe\">\n",
       "  <thead>\n",
       "    <tr style=\"text-align: right;\">\n",
       "      <th></th>\n",
       "      <th>0</th>\n",
       "    </tr>\n",
       "  </thead>\n",
       "  <tbody>\n",
       "    <tr>\n",
       "      <th>0</th>\n",
       "      <td>1</td>\n",
       "    </tr>\n",
       "    <tr>\n",
       "      <th>1</th>\n",
       "      <td>2</td>\n",
       "    </tr>\n",
       "    <tr>\n",
       "      <th>2</th>\n",
       "      <td>3</td>\n",
       "    </tr>\n",
       "    <tr>\n",
       "      <th>3</th>\n",
       "      <td>4</td>\n",
       "    </tr>\n",
       "    <tr>\n",
       "      <th>4</th>\n",
       "      <td>5</td>\n",
       "    </tr>\n",
       "  </tbody>\n",
       "</table>\n",
       "</div>"
      ],
      "text/plain": [
       "   0\n",
       "0  1\n",
       "1  2\n",
       "2  3\n",
       "3  4\n",
       "4  5"
      ]
     },
     "execution_count": 18,
     "metadata": {},
     "output_type": "execute_result"
    }
   ],
   "source": [
    "# def show_glcm_matrix(photos):\n",
    "pd.DataFrame([1,2,3,4,5])"
   ]
  },
  {
   "cell_type": "code",
   "execution_count": 19,
   "metadata": {},
   "outputs": [],
   "source": [
    "# Get the list of all files and directories\n",
    "happy = \"C:/Tugas/PPDM/Tugas 2/Pictures/Happy\"\n",
    "neutral = \"C:/Tugas/PPDM/Tugas 2/Pictures/Neutral\"\n",
    "sad = \"C:/Tugas/PPDM/Tugas 2/Pictures/Sad\""
   ]
  },
  {
   "cell_type": "code",
   "execution_count": 20,
   "metadata": {},
   "outputs": [],
   "source": [
    "happy = [happy + '/' + i for i in os.listdir(happy)]\n",
    "neutral = [neutral + '/' + i for i in os.listdir(neutral)]\n",
    "sad = [sad + '/' + i for i in os.listdir(sad)]"
   ]
  },
  {
   "cell_type": "code",
   "execution_count": 21,
   "metadata": {},
   "outputs": [],
   "source": [
    "happy = [io.imread(i, pilmode='L') for i in happy]\n",
    "neutral = [io.imread(i, pilmode='L') for i in neutral]\n",
    "sad = [io.imread(i, pilmode='L') for i in sad]"
   ]
  },
  {
   "cell_type": "code",
   "execution_count": 22,
   "metadata": {},
   "outputs": [
    {
     "data": {
      "text/plain": [
       "-1.0244314125352938"
      ]
     },
     "execution_count": 22,
     "metadata": {},
     "output_type": "execute_result"
    }
   ],
   "source": [
    "kurtosis(happy[2].flatten(), fisher=True)"
   ]
  },
  {
   "cell_type": "code",
   "execution_count": 23,
   "metadata": {},
   "outputs": [
    {
     "data": {
      "text/plain": [
       "1202.3017909673997"
      ]
     },
     "execution_count": 23,
     "metadata": {},
     "output_type": "execute_result"
    }
   ],
   "source": [
    "skew(happy[9].flatten())\n",
    "variance(happy[9].flatten())"
   ]
  },
  {
   "cell_type": "code",
   "execution_count": 34,
   "metadata": {},
   "outputs": [
    {
     "data": {
      "text/html": [
       "<div>\n",
       "<style scoped>\n",
       "    .dataframe tbody tr th:only-of-type {\n",
       "        vertical-align: middle;\n",
       "    }\n",
       "\n",
       "    .dataframe tbody tr th {\n",
       "        vertical-align: top;\n",
       "    }\n",
       "\n",
       "    .dataframe thead th {\n",
       "        text-align: right;\n",
       "    }\n",
       "</style>\n",
       "<table border=\"1\" class=\"dataframe\">\n",
       "  <thead>\n",
       "    <tr style=\"text-align: right;\">\n",
       "      <th>Picture</th>\n",
       "      <th>Neutral-401</th>\n",
       "      <th>Neutral-402</th>\n",
       "      <th>Neutral-403</th>\n",
       "      <th>Neutral-404</th>\n",
       "      <th>Neutral-405</th>\n",
       "      <th>Neutral-406</th>\n",
       "      <th>Neutral-407</th>\n",
       "      <th>Neutral-408</th>\n",
       "      <th>Neutral-409</th>\n",
       "      <th>Neutral-410</th>\n",
       "    </tr>\n",
       "    <tr>\n",
       "      <th>Angle</th>\n",
       "      <th></th>\n",
       "      <th></th>\n",
       "      <th></th>\n",
       "      <th></th>\n",
       "      <th></th>\n",
       "      <th></th>\n",
       "      <th></th>\n",
       "      <th></th>\n",
       "      <th></th>\n",
       "      <th></th>\n",
       "    </tr>\n",
       "  </thead>\n",
       "  <tbody>\n",
       "    <tr>\n",
       "      <th>0.0</th>\n",
       "      <td>21.743207</td>\n",
       "      <td>16.348732</td>\n",
       "      <td>25.099185</td>\n",
       "      <td>14.507246</td>\n",
       "      <td>15.964674</td>\n",
       "      <td>25.153986</td>\n",
       "      <td>26.577899</td>\n",
       "      <td>17.083333</td>\n",
       "      <td>14.834692</td>\n",
       "      <td>24.55163</td>\n",
       "    </tr>\n",
       "  </tbody>\n",
       "</table>\n",
       "</div>"
      ],
      "text/plain": [
       "Picture  Neutral-401  Neutral-402  Neutral-403  Neutral-404  Neutral-405  \\\n",
       "Angle                                                                      \n",
       "0.0        21.743207    16.348732    25.099185    14.507246    15.964674   \n",
       "\n",
       "Picture  Neutral-406  Neutral-407  Neutral-408  Neutral-409  Neutral-410  \n",
       "Angle                                                                     \n",
       "0.0        25.153986    26.577899    17.083333    14.834692     24.55163  "
      ]
     },
     "execution_count": 34,
     "metadata": {},
     "output_type": "execute_result"
    }
   ],
   "source": [
    "df = concat_calculation(neutral, ['Neutral']*len(neutral)).sort_values(by=['Angle', 'Picture'], ascending=[True, True])\n",
    "pivot = df[df['Angle'] == 0].pivot(index='Angle', columns='Picture', values='Dissimilarity')"
   ]
  },
  {
   "cell_type": "code",
   "execution_count": 42,
   "metadata": {},
   "outputs": [],
   "source": [
    "def hist_for_second(photo, angle, emotion):\n",
    "\n",
    "    df = concat_calculation(photo, [emotion]*len(photo))\n",
    "    for i in df.columns[3:]:\n",
    "        df[df['Angle'] == angle].plot.bar(x='Picture', y=i)"
   ]
  },
  {
   "cell_type": "code",
   "execution_count": 25,
   "metadata": {},
   "outputs": [
    {
     "data": {
      "image/png": "[encoded data removed]",
      "text/plain": [
       "<Figure size 432x288 with 1 Axes>"
      ]
     },
     "metadata": {
      "needs_background": "light"
     },
     "output_type": "display_data"
    }
   ],
   "source": [
    "show_photo_preview(str(401), 'happy')"
   ]
  },
  {
   "cell_type": "code",
   "execution_count": 26,
   "metadata": {},
   "outputs": [
    {
     "data": {
      "text/html": [
       "<div>\n",
       "<style scoped>\n",
       "    .dataframe tbody tr th:only-of-type {\n",
       "        vertical-align: middle;\n",
       "    }\n",
       "\n",
       "    .dataframe tbody tr th {\n",
       "        vertical-align: top;\n",
       "    }\n",
       "\n",
       "    .dataframe thead th {\n",
       "        text-align: right;\n",
       "    }\n",
       "</style>\n",
       "<table border=\"1\" class=\"dataframe\">\n",
       "  <thead>\n",
       "    <tr style=\"text-align: right;\">\n",
       "      <th></th>\n",
       "      <th>Picture</th>\n",
       "      <th>Emotion</th>\n",
       "      <th>Mean</th>\n",
       "      <th>Skewness</th>\n",
       "      <th>Kurtosis</th>\n",
       "      <th>Variation</th>\n",
       "      <th>Entropy</th>\n",
       "    </tr>\n",
       "  </thead>\n",
       "  <tbody>\n",
       "    <tr>\n",
       "      <th>0</th>\n",
       "      <td>Happy-401</td>\n",
       "      <td>Happy</td>\n",
       "      <td>158.420573</td>\n",
       "      <td>-0.703639</td>\n",
       "      <td>-0.543212</td>\n",
       "      <td>2979.300983</td>\n",
       "      <td>11.070261</td>\n",
       "    </tr>\n",
       "    <tr>\n",
       "      <th>1</th>\n",
       "      <td>Happy-402</td>\n",
       "      <td>Happy</td>\n",
       "      <td>151.363715</td>\n",
       "      <td>-0.246192</td>\n",
       "      <td>-0.743187</td>\n",
       "      <td>2617.888545</td>\n",
       "      <td>11.080087</td>\n",
       "    </tr>\n",
       "    <tr>\n",
       "      <th>2</th>\n",
       "      <td>Happy-403</td>\n",
       "      <td>Happy</td>\n",
       "      <td>151.328993</td>\n",
       "      <td>-0.148123</td>\n",
       "      <td>-1.024431</td>\n",
       "      <td>4309.881347</td>\n",
       "      <td>11.017912</td>\n",
       "    </tr>\n",
       "    <tr>\n",
       "      <th>3</th>\n",
       "      <td>Happy-404</td>\n",
       "      <td>Happy</td>\n",
       "      <td>93.166667</td>\n",
       "      <td>1.064977</td>\n",
       "      <td>3.162038</td>\n",
       "      <td>940.937500</td>\n",
       "      <td>11.094525</td>\n",
       "    </tr>\n",
       "    <tr>\n",
       "      <th>4</th>\n",
       "      <td>Happy-405</td>\n",
       "      <td>Happy</td>\n",
       "      <td>104.887587</td>\n",
       "      <td>0.152719</td>\n",
       "      <td>-1.457738</td>\n",
       "      <td>6467.455679</td>\n",
       "      <td>10.659247</td>\n",
       "    </tr>\n",
       "    <tr>\n",
       "      <th>5</th>\n",
       "      <td>Happy-406</td>\n",
       "      <td>Happy</td>\n",
       "      <td>143.728299</td>\n",
       "      <td>-0.907583</td>\n",
       "      <td>0.874269</td>\n",
       "      <td>1528.637984</td>\n",
       "      <td>11.107688</td>\n",
       "    </tr>\n",
       "    <tr>\n",
       "      <th>6</th>\n",
       "      <td>Happy-407</td>\n",
       "      <td>Happy</td>\n",
       "      <td>142.516493</td>\n",
       "      <td>-0.797765</td>\n",
       "      <td>-0.876988</td>\n",
       "      <td>5561.364311</td>\n",
       "      <td>10.892884</td>\n",
       "    </tr>\n",
       "    <tr>\n",
       "      <th>7</th>\n",
       "      <td>Happy-408</td>\n",
       "      <td>Happy</td>\n",
       "      <td>138.551649</td>\n",
       "      <td>-0.279537</td>\n",
       "      <td>-1.493056</td>\n",
       "      <td>6206.262957</td>\n",
       "      <td>10.891663</td>\n",
       "    </tr>\n",
       "    <tr>\n",
       "      <th>8</th>\n",
       "      <td>Happy-409</td>\n",
       "      <td>Happy</td>\n",
       "      <td>130.196615</td>\n",
       "      <td>-0.687641</td>\n",
       "      <td>0.489257</td>\n",
       "      <td>1733.475666</td>\n",
       "      <td>11.082827</td>\n",
       "    </tr>\n",
       "    <tr>\n",
       "      <th>9</th>\n",
       "      <td>Happy-410</td>\n",
       "      <td>Happy</td>\n",
       "      <td>97.946181</td>\n",
       "      <td>0.207447</td>\n",
       "      <td>0.970323</td>\n",
       "      <td>1202.301791</td>\n",
       "      <td>11.072690</td>\n",
       "    </tr>\n",
       "  </tbody>\n",
       "</table>\n",
       "</div>"
      ],
      "text/plain": [
       "     Picture Emotion        Mean  Skewness  Kurtosis    Variation    Entropy\n",
       "0  Happy-401   Happy  158.420573 -0.703639 -0.543212  2979.300983  11.070261\n",
       "1  Happy-402   Happy  151.363715 -0.246192 -0.743187  2617.888545  11.080087\n",
       "2  Happy-403   Happy  151.328993 -0.148123 -1.024431  4309.881347  11.017912\n",
       "3  Happy-404   Happy   93.166667  1.064977  3.162038   940.937500  11.094525\n",
       "4  Happy-405   Happy  104.887587  0.152719 -1.457738  6467.455679  10.659247\n",
       "5  Happy-406   Happy  143.728299 -0.907583  0.874269  1528.637984  11.107688\n",
       "6  Happy-407   Happy  142.516493 -0.797765 -0.876988  5561.364311  10.892884\n",
       "7  Happy-408   Happy  138.551649 -0.279537 -1.493056  6206.262957  10.891663\n",
       "8  Happy-409   Happy  130.196615 -0.687641  0.489257  1733.475666  11.082827\n",
       "9  Happy-410   Happy   97.946181  0.207447  0.970323  1202.301791  11.072690"
      ]
     },
     "execution_count": 26,
     "metadata": {},
     "output_type": "execute_result"
    }
   ],
   "source": [
    "first_order_stat(happy, ['Happy']*len(happy))"
   ]
  },
  {
   "cell_type": "code",
   "execution_count": 27,
   "metadata": {},
   "outputs": [
    {
     "data": {
      "text/plain": [
       "([8.040946665697465, 7.984030568391296, 7.980806852922381, 8.040946665697465],\n",
       " [0.051916215005943976,\n",
       "  0.07402126404314466,\n",
       "  0.054517530684059096,\n",
       "  0.051916215005943976])"
      ]
     },
     "execution_count": 27,
     "metadata": {},
     "output_type": "execute_result"
    }
   ],
   "source": [
    "def count_ent_and_idm(glcm):\n",
    "\n",
    "        Ent = [0.0]*4\n",
    "        Idm = [0.0]*4\n",
    "\n",
    "        for angle in range(4):\n",
    "            for i in range(256):\n",
    "                for j in range(256):\n",
    "                    Idm[angle] += glcm[i][j][0][angle] / (1 + ((i - j)**2))\n",
    "                    if glcm[i][j][0][angle] > 0.0:\n",
    "                        Ent[angle] += glcm[i][j][0][angle] * math.log(glcm[i][j][0][angle])\n",
    "        return [-i for i in Ent], Idm\n",
    "    \n",
    "    \n",
    "glcm = feature.graycomatrix(happy[9], distances=[2], angles=[0, 45, 90, 135], levels=256,\n",
    "                        symmetric=True, normed=True)\n",
    "\n",
    "count_ent_and_idm(glcm)"
   ]
  }
 ],
 "metadata": {
  "kernelspec": {
   "display_name": "Python 3 (ipykernel)",
   "language": "python",
   "name": "python3"
  },
  "language_info": {
   "codemirror_mode": {
    "name": "ipython",
    "version": 3
   },
   "file_extension": ".py",
   "mimetype": "text/x-python",
   "name": "python",
   "nbconvert_exporter": "python",
   "pygments_lexer": "ipython3",
   "version": "3.8.4"
  },
  "orig_nbformat": 4
 },
 "nbformat": 4,
 "nbformat_minor": 2
}
